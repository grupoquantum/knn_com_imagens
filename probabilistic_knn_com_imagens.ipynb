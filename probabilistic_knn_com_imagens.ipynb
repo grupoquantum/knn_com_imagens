{
 "cells": [
  {
   "cell_type": "markdown",
   "metadata": {},
   "source": [
    "<h3>K-Nearest Neighbors na Classificação de Imagens</h3>"
   ]
  },
  {
   "cell_type": "markdown",
   "metadata": {},
   "source": [
    "<h4>Instanciação e Treinamento</h4>"
   ]
  },
  {
   "cell_type": "code",
   "execution_count": 19,
   "metadata": {},
   "outputs": [
    {
     "data": {
      "text/plain": [
       "True"
      ]
     },
     "execution_count": 19,
     "metadata": {},
     "output_type": "execute_result"
    }
   ],
   "source": [
    "from Neuraline.ArtificialIntelligence.MachineLearning.SupervisedLearning.probabilistic_knn import ProbabilisticKNN\n",
    "probabilistic_knn = ProbabilisticKNN()\n",
    "# treinamento com as amostras de exemplo para cada classe\n",
    "probabilistic_knn.addFit(url_path='./images/training/coca-cola', class_name='coca-cola')\n",
    "probabilistic_knn.addFit(url_path='./images/training/sprite', class_name='sprite')"
   ]
  },
  {
   "cell_type": "markdown",
   "metadata": {},
   "source": [
    "<h4>Teste com Imagens de Coca-Cola</h4>"
   ]
  },
  {
   "cell_type": "code",
   "execution_count": 25,
   "metadata": {},
   "outputs": [
    {
     "name": "stdout",
     "output_type": "stream",
     "text": [
      "[{'coca-cola': 0.746414561434115}]\n",
      "Classificação para a MAIOR probabilidade: coca-cola\n"
     ]
    }
   ],
   "source": [
    "url_inputs = './images/test/coca-cola/image03.jpg'\n",
    "classification = probabilistic_knn.predict(url_inputs, gaussian=True)\n",
    "# retorno original\n",
    "print(classification)\n",
    "# retorno formatado\n",
    "print(f'Classificação para a MAIOR probabilidade: {list(classification[0].keys())[0]}')"
   ]
  },
  {
   "cell_type": "markdown",
   "metadata": {},
   "source": [
    "<h4>Teste com Imagens de Sprite</h4>"
   ]
  },
  {
   "cell_type": "code",
   "execution_count": 26,
   "metadata": {},
   "outputs": [
    {
     "name": "stdout",
     "output_type": "stream",
     "text": [
      "[{'sprite': 0.8230845385792257}]\n",
      "Classificação para a MAIOR probabilidade: sprite\n"
     ]
    }
   ],
   "source": [
    "url_inputs = './images/test/sprite/image03.jpg'\n",
    "classification = probabilistic_knn.predict(url_inputs, gaussian=True)\n",
    "# retorno original\n",
    "print(classification)\n",
    "# retorno formatad\n",
    "print(f'Classificação para a MAIOR probabilidade: {list(classification[0].keys())[0]}')"
   ]
  }
 ],
 "metadata": {
  "kernelspec": {
   "display_name": "Python 3.10.4 64-bit",
   "language": "python",
   "name": "python3"
  },
  "language_info": {
   "codemirror_mode": {
    "name": "ipython",
    "version": 3
   },
   "file_extension": ".py",
   "mimetype": "text/x-python",
   "name": "python",
   "nbconvert_exporter": "python",
   "pygments_lexer": "ipython3",
   "version": "3.10.4"
  },
  "orig_nbformat": 4,
  "vscode": {
   "interpreter": {
    "hash": "916dbcbb3f70747c44a77c7bcd40155683ae19c65e1c03b4aa3499c5328201f1"
   }
  }
 },
 "nbformat": 4,
 "nbformat_minor": 2
}
